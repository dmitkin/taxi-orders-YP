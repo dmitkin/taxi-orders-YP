{
 "cells": [
  {
   "cell_type": "markdown",
   "metadata": {},
   "source": [
    "#  Прогнозирование заказов такси"
   ]
  },
  {
   "cell_type": "markdown",
   "metadata": {},
   "source": [
    "Компания предоставляющая услуги такси собрала исторические данные о заказах такси в аэропортах. Чтобы привлекать больше водителей в период пиковой нагрузки, нужно спрогнозировать количество заказов такси на следующий час. Необходимо построить модель для такого предсказания.\n",
    "\n",
    "Значение метрики *RMSE* на тестовой выборке должно быть не больше 48.\n",
    "\n",
    "Необходимо:\n",
    "\n",
    "1. Загрузить данные и выполнить их ресемплирование по одному часу.\n",
    "2. Проанализировать данные.\n",
    "3. Обучить разные модели с различными гиперпараметрами. Сделать тестовую выборку размером 10% от исходных данных.\n",
    "4. Проверить данные на тестовой выборке и сделать выводы.\n",
    "\n",
    "\n",
    "Данные лежат в файле `taxi.csv`. Количество заказов находится в столбце `num_orders` (от англ. *number of orders*, «число заказов»)."
   ]
  },
  {
   "cell_type": "markdown",
   "metadata": {},
   "source": [
    "## Подготовка"
   ]
  },
  {
   "cell_type": "code",
   "execution_count": 19,
   "metadata": {},
   "outputs": [],
   "source": [
    "import pandas as pd\n",
    "import numpy as np\n",
    "import matplotlib.pyplot as plt\n",
    "from statsmodels.tsa.seasonal import seasonal_decompose\n",
    "from sklearn.model_selection import train_test_split\n",
    "from sklearn.linear_model import LinearRegression\n",
    "from sklearn.metrics import mean_squared_error as mse\n",
    "from sklearn.metrics import make_scorer\n",
    "from sklearn.model_selection import GridSearchCV\n",
    "from sklearn.ensemble import RandomForestRegressor\n",
    "import lightgbm as lgb\n",
    "import tqdm\n",
    "from sklearn.model_selection import TimeSeriesSplit"
   ]
  },
  {
   "cell_type": "markdown",
   "metadata": {},
   "source": [
    "Изучим предоставленные данные."
   ]
  },
  {
   "cell_type": "code",
   "execution_count": 3,
   "metadata": {},
   "outputs": [],
   "source": [
    "df = pd.read_csv('/datasets/taxi.csv')"
   ]
  },
  {
   "cell_type": "code",
   "execution_count": 4,
   "metadata": {},
   "outputs": [
    {
     "data": {
      "text/html": [
       "<div>\n",
       "<style scoped>\n",
       "    .dataframe tbody tr th:only-of-type {\n",
       "        vertical-align: middle;\n",
       "    }\n",
       "\n",
       "    .dataframe tbody tr th {\n",
       "        vertical-align: top;\n",
       "    }\n",
       "\n",
       "    .dataframe thead th {\n",
       "        text-align: right;\n",
       "    }\n",
       "</style>\n",
       "<table border=\"1\" class=\"dataframe\">\n",
       "  <thead>\n",
       "    <tr style=\"text-align: right;\">\n",
       "      <th></th>\n",
       "      <th>datetime</th>\n",
       "      <th>num_orders</th>\n",
       "    </tr>\n",
       "  </thead>\n",
       "  <tbody>\n",
       "    <tr>\n",
       "      <th>0</th>\n",
       "      <td>2018-03-01 00:00:00</td>\n",
       "      <td>9</td>\n",
       "    </tr>\n",
       "    <tr>\n",
       "      <th>1</th>\n",
       "      <td>2018-03-01 00:10:00</td>\n",
       "      <td>14</td>\n",
       "    </tr>\n",
       "    <tr>\n",
       "      <th>2</th>\n",
       "      <td>2018-03-01 00:20:00</td>\n",
       "      <td>28</td>\n",
       "    </tr>\n",
       "    <tr>\n",
       "      <th>3</th>\n",
       "      <td>2018-03-01 00:30:00</td>\n",
       "      <td>20</td>\n",
       "    </tr>\n",
       "    <tr>\n",
       "      <th>4</th>\n",
       "      <td>2018-03-01 00:40:00</td>\n",
       "      <td>32</td>\n",
       "    </tr>\n",
       "  </tbody>\n",
       "</table>\n",
       "</div>"
      ],
      "text/plain": [
       "              datetime  num_orders\n",
       "0  2018-03-01 00:00:00           9\n",
       "1  2018-03-01 00:10:00          14\n",
       "2  2018-03-01 00:20:00          28\n",
       "3  2018-03-01 00:30:00          20\n",
       "4  2018-03-01 00:40:00          32"
      ]
     },
     "execution_count": 4,
     "metadata": {},
     "output_type": "execute_result"
    }
   ],
   "source": [
    "df.head()"
   ]
  },
  {
   "cell_type": "code",
   "execution_count": 5,
   "metadata": {},
   "outputs": [
    {
     "name": "stdout",
     "output_type": "stream",
     "text": [
      "<class 'pandas.core.frame.DataFrame'>\n",
      "RangeIndex: 26496 entries, 0 to 26495\n",
      "Data columns (total 2 columns):\n",
      " #   Column      Non-Null Count  Dtype \n",
      "---  ------      --------------  ----- \n",
      " 0   datetime    26496 non-null  object\n",
      " 1   num_orders  26496 non-null  int64 \n",
      "dtypes: int64(1), object(1)\n",
      "memory usage: 414.1+ KB\n"
     ]
    }
   ],
   "source": [
    "df.info()"
   ]
  },
  {
   "cell_type": "markdown",
   "metadata": {},
   "source": [
    "Нам предоставлены данные с количеством заказов такси в 10 минутных интервалах."
   ]
  },
  {
   "cell_type": "markdown",
   "metadata": {},
   "source": [
    "Столбец `datetime` содержит данные о дате, однако принадлежит к типу object. Исправим это."
   ]
  },
  {
   "cell_type": "code",
   "execution_count": 6,
   "metadata": {},
   "outputs": [],
   "source": [
    "df['datetime'] = df['datetime'].astype('datetime64')"
   ]
  },
  {
   "cell_type": "markdown",
   "metadata": {},
   "source": [
    "Для удобной работы с временными рядами сделаем столбец индексом."
   ]
  },
  {
   "cell_type": "code",
   "execution_count": 7,
   "metadata": {},
   "outputs": [],
   "source": [
    "df.set_index('datetime', inplace=True)"
   ]
  },
  {
   "cell_type": "markdown",
   "metadata": {},
   "source": [
    "Проверим, в хронологическом ли порядке расположены дата и время."
   ]
  },
  {
   "cell_type": "code",
   "execution_count": 8,
   "metadata": {},
   "outputs": [
    {
     "data": {
      "text/plain": [
       "True"
      ]
     },
     "execution_count": 8,
     "metadata": {},
     "output_type": "execute_result"
    }
   ],
   "source": [
    "df.index.is_monotonic"
   ]
  },
  {
   "cell_type": "markdown",
   "metadata": {},
   "source": [
    "По условиям заказчика, данные должны находится в часовом интервале. Проведем ресемплирование."
   ]
  },
  {
   "cell_type": "code",
   "execution_count": 9,
   "metadata": {},
   "outputs": [],
   "source": [
    "df = df.resample('1H').sum()"
   ]
  },
  {
   "cell_type": "code",
   "execution_count": 10,
   "metadata": {},
   "outputs": [
    {
     "data": {
      "text/html": [
       "<div>\n",
       "<style scoped>\n",
       "    .dataframe tbody tr th:only-of-type {\n",
       "        vertical-align: middle;\n",
       "    }\n",
       "\n",
       "    .dataframe tbody tr th {\n",
       "        vertical-align: top;\n",
       "    }\n",
       "\n",
       "    .dataframe thead th {\n",
       "        text-align: right;\n",
       "    }\n",
       "</style>\n",
       "<table border=\"1\" class=\"dataframe\">\n",
       "  <thead>\n",
       "    <tr style=\"text-align: right;\">\n",
       "      <th></th>\n",
       "      <th>num_orders</th>\n",
       "    </tr>\n",
       "    <tr>\n",
       "      <th>datetime</th>\n",
       "      <th></th>\n",
       "    </tr>\n",
       "  </thead>\n",
       "  <tbody>\n",
       "    <tr>\n",
       "      <th>2018-03-01 00:00:00</th>\n",
       "      <td>124</td>\n",
       "    </tr>\n",
       "    <tr>\n",
       "      <th>2018-03-01 01:00:00</th>\n",
       "      <td>85</td>\n",
       "    </tr>\n",
       "    <tr>\n",
       "      <th>2018-03-01 02:00:00</th>\n",
       "      <td>71</td>\n",
       "    </tr>\n",
       "    <tr>\n",
       "      <th>2018-03-01 03:00:00</th>\n",
       "      <td>66</td>\n",
       "    </tr>\n",
       "    <tr>\n",
       "      <th>2018-03-01 04:00:00</th>\n",
       "      <td>43</td>\n",
       "    </tr>\n",
       "  </tbody>\n",
       "</table>\n",
       "</div>"
      ],
      "text/plain": [
       "                     num_orders\n",
       "datetime                       \n",
       "2018-03-01 00:00:00         124\n",
       "2018-03-01 01:00:00          85\n",
       "2018-03-01 02:00:00          71\n",
       "2018-03-01 03:00:00          66\n",
       "2018-03-01 04:00:00          43"
      ]
     },
     "execution_count": 10,
     "metadata": {},
     "output_type": "execute_result"
    }
   ],
   "source": [
    "df.head()"
   ]
  },
  {
   "cell_type": "code",
   "execution_count": 11,
   "metadata": {},
   "outputs": [
    {
     "name": "stdout",
     "output_type": "stream",
     "text": [
      "<class 'pandas.core.frame.DataFrame'>\n",
      "DatetimeIndex: 4416 entries, 2018-03-01 00:00:00 to 2018-08-31 23:00:00\n",
      "Freq: H\n",
      "Data columns (total 1 columns):\n",
      " #   Column      Non-Null Count  Dtype\n",
      "---  ------      --------------  -----\n",
      " 0   num_orders  4416 non-null   int64\n",
      "dtypes: int64(1)\n",
      "memory usage: 69.0 KB\n"
     ]
    }
   ],
   "source": [
    "df.info()"
   ]
  },
  {
   "cell_type": "markdown",
   "metadata": {},
   "source": [
    "## Анализ"
   ]
  },
  {
   "cell_type": "markdown",
   "metadata": {},
   "source": [
    "Рассмотрим данные на графике. Для наглядности используем метод скользящего среднего."
   ]
  },
  {
   "cell_type": "code",
   "execution_count": 12,
   "metadata": {},
   "outputs": [
    {
     "data": {
      "image/png": "[encoded data removed]",
      "text/plain": [
       "<Figure size 1080x360 with 1 Axes>"
      ]
     },
     "metadata": {
      "needs_background": "light"
     },
     "output_type": "display_data"
    }
   ],
   "source": [
    "df.rolling(50).mean().plot(figsize=(15, 5))\n",
    "plt.show()"
   ]
  },
  {
   "cell_type": "markdown",
   "metadata": {},
   "source": [
    "На графике мы можем наблюдать восходящий тренд."
   ]
  },
  {
   "cell_type": "markdown",
   "metadata": {},
   "source": [
    "----"
   ]
  },
  {
   "cell_type": "markdown",
   "metadata": {},
   "source": [
    "Рассмотрим сезонную составляющую имеющихся данных. \n",
    "\n",
    "Так как нам предоставлены данные за один год в период с марта по август, рассматривать будем дневную и еженедельную сезонность."
   ]
  },
  {
   "cell_type": "code",
   "execution_count": 13,
   "metadata": {},
   "outputs": [],
   "source": [
    "decomposed_day = seasonal_decompose(df)\n",
    "decomposed_week = seasonal_decompose(df.resample('1D').sum())"
   ]
  },
  {
   "cell_type": "code",
   "execution_count": 14,
   "metadata": {},
   "outputs": [
    {
     "data": {
      "image/png": "[encoded data removed]",
      "text/plain": [
       "<Figure size 1080x360 with 1 Axes>"
      ]
     },
     "metadata": {
      "needs_background": "light"
     },
     "output_type": "display_data"
    }
   ],
   "source": [
    "decomposed_day.seasonal['2018-03-01'].plot(figsize=(15, 5), title='Daily seasonality')\n",
    "plt.show()"
   ]
  },
  {
   "cell_type": "markdown",
   "metadata": {},
   "source": [
    "Сезонность предоставлена в сутках, так можно наблюдать, что наименьшее количество заказов такси наблюдается в 6 утра."
   ]
  },
  {
   "cell_type": "markdown",
   "metadata": {},
   "source": [
    "----"
   ]
  },
  {
   "cell_type": "markdown",
   "metadata": {},
   "source": [
    "Рассмотрим сезонность в период с понедельника по воскресенье."
   ]
  },
  {
   "cell_type": "code",
   "execution_count": 15,
   "metadata": {},
   "outputs": [
    {
     "data": {
      "text/plain": [
       "<AxesSubplot:title={'center':'Weekly seasonality'}, xlabel='datetime'>"
      ]
     },
     "execution_count": 15,
     "metadata": {},
     "output_type": "execute_result"
    },
    {
     "data": {
      "image/png": "[encoded data removed]",
      "text/plain": [
       "<Figure size 1080x360 with 1 Axes>"
      ]
     },
     "metadata": {
      "needs_background": "light"
     },
     "output_type": "display_data"
    }
   ],
   "source": [
    "decomposed_week.seasonal['2018-03-05':'2018-03-11'].plot(figsize=(15, 5), title='Weekly seasonality')"
   ]
  },
  {
   "cell_type": "markdown",
   "metadata": {},
   "source": [
    "На графике можно заметить, что пики заказов приходятся на понедельник и пятницу. Самый ненагруженный день - вторник"
   ]
  },
  {
   "cell_type": "markdown",
   "metadata": {},
   "source": [
    "## Обучение"
   ]
  },
  {
   "cell_type": "markdown",
   "metadata": {},
   "source": [
    "Для обучения модели нам потребуется создать признаки."
   ]
  },
  {
   "cell_type": "markdown",
   "metadata": {},
   "source": [
    "Напишем функцию для добавления новых признаков в датафрейм."
   ]
  },
  {
   "cell_type": "code",
   "execution_count": 16,
   "metadata": {},
   "outputs": [],
   "source": [
    "def new_features(df, max_lag, rolling_mean_size):\n",
    "    data = df.copy()\n",
    "    \n",
    "    data['day_of_week'] = data.index.dayofweek\n",
    "    data['hour'] = data.index.hour\n",
    "    \n",
    "    # Добавим признаки с предыдущими значениями временного ряда.\n",
    "    for lag in range(1, max_lag + 1):\n",
    "        data['lag_' + str(lag)] = data['num_orders'].shift(lag)\n",
    "        \n",
    "    # Добавим признак со скользящим средним, размер окна которого можно регулировать.    \n",
    "    data['rolling_mean'] = data['num_orders'].shift().rolling(rolling_mean_size).mean()\n",
    "    \n",
    "    # Разделим данные на тренировочную и тестовую выборки.\n",
    "    train, test = train_test_split(data, shuffle=False, test_size=0.1)\n",
    "    \n",
    "    # Очистим обучающие данные от NaN значений.\n",
    "    train = train.dropna()\n",
    "    \n",
    "    # Выделим признаки для обучения модели и целевой признак.\n",
    "    def features_target_split(sample):\n",
    "        features = sample.drop(['num_orders'], axis='columns')\n",
    "        target = sample['num_orders']\n",
    "        return features, target\n",
    "    \n",
    "    train_features, train_target = features_target_split(train)\n",
    "    test_features, test_target = features_target_split(test)\n",
    "    \n",
    "    return train_features, train_target, test_features, test_target"
   ]
  },
  {
   "cell_type": "markdown",
   "metadata": {},
   "source": [
    "----"
   ]
  },
  {
   "cell_type": "markdown",
   "metadata": {},
   "source": [
    "Для оценки модели воспользуемся метрикой RMSE."
   ]
  },
  {
   "cell_type": "code",
   "execution_count": 17,
   "metadata": {},
   "outputs": [],
   "source": [
    "def rmse(target, predictions):\n",
    "    return mse(target, predictions, squared=False)\n",
    "\n",
    "rmse_score = make_scorer(rmse, greater_is_better=False)"
   ]
  },
  {
   "cell_type": "markdown",
   "metadata": {},
   "source": [
    "### Модель линейной регрессии."
   ]
  },
  {
   "cell_type": "markdown",
   "metadata": {},
   "source": [
    "Попробуем подобрать оптимальные параметры для функции, которая добавляет признаки в датафрейм. В качестве экспериментальной модели используем линейную модель."
   ]
  },
  {
   "cell_type": "code",
   "execution_count": 21,
   "metadata": {
    "scrolled": true
   },
   "outputs": [
    {
     "name": "stderr",
     "output_type": "stream",
     "text": [
      "  0%|          | 0/4 [00:00<?, ?it/s]\n",
      "  0%|          | 0/12 [00:00<?, ?it/s]\u001b[A\n",
      "  8%|▊         | 1/12 [00:00<00:03,  3.40it/s]\u001b[A\n",
      " 17%|█▋        | 2/12 [00:00<00:04,  2.13it/s]\u001b[A\n",
      " 25%|██▌       | 3/12 [00:01<00:04,  2.06it/s]\u001b[A\n",
      " 33%|███▎      | 4/12 [00:01<00:04,  1.88it/s]\u001b[A\n",
      " 42%|████▏     | 5/12 [00:02<00:03,  1.92it/s]\u001b[A\n",
      " 50%|█████     | 6/12 [00:02<00:02,  2.09it/s]\u001b[A\n",
      " 58%|█████▊    | 7/12 [00:03<00:02,  2.07it/s]\u001b[A\n",
      " 67%|██████▋   | 8/12 [00:03<00:01,  2.18it/s]\u001b[A\n",
      " 75%|███████▌  | 9/12 [00:04<00:01,  2.13it/s]\u001b[A\n",
      " 83%|████████▎ | 10/12 [00:04<00:00,  2.22it/s]\u001b[A\n",
      " 92%|█████████▏| 11/12 [00:05<00:00,  2.01it/s]\u001b[A\n",
      "100%|██████████| 12/12 [00:05<00:00,  2.00it/s]\u001b[A\n",
      " 25%|██▌       | 1/4 [00:05<00:17,  6.00s/it]\n",
      "  0%|          | 0/12 [00:00<?, ?it/s]\u001b[A\n",
      "  8%|▊         | 1/12 [00:00<00:07,  1.44it/s]\u001b[A\n",
      " 17%|█▋        | 2/12 [00:01<00:07,  1.32it/s]\u001b[A\n",
      " 25%|██▌       | 3/12 [00:02<00:06,  1.37it/s]\u001b[A\n",
      " 33%|███▎      | 4/12 [00:02<00:05,  1.39it/s]\u001b[A\n",
      " 42%|████▏     | 5/12 [00:03<00:05,  1.34it/s]\u001b[A\n",
      " 50%|█████     | 6/12 [00:04<00:04,  1.31it/s]\u001b[A\n",
      " 58%|█████▊    | 7/12 [00:05<00:03,  1.28it/s]\u001b[A\n",
      " 67%|██████▋   | 8/12 [00:05<00:02,  1.39it/s]\u001b[A\n",
      " 75%|███████▌  | 9/12 [00:06<00:02,  1.34it/s]\u001b[A\n",
      " 83%|████████▎ | 10/12 [00:07<00:01,  1.43it/s]\u001b[A\n",
      " 92%|█████████▏| 11/12 [00:08<00:00,  1.43it/s]\u001b[A\n",
      "100%|██████████| 12/12 [00:08<00:00,  1.36it/s]\u001b[A\n",
      " 50%|█████     | 2/4 [00:14<00:15,  7.70s/it]\n",
      "  0%|          | 0/12 [00:00<?, ?it/s]\u001b[A\n",
      "  8%|▊         | 1/12 [00:00<00:07,  1.44it/s]\u001b[A\n",
      " 17%|█▋        | 2/12 [00:01<00:07,  1.32it/s]\u001b[A\n",
      " 25%|██▌       | 3/12 [00:02<00:06,  1.29it/s]\u001b[A\n",
      " 33%|███▎      | 4/12 [00:03<00:06,  1.16it/s]\u001b[A\n",
      " 42%|████▏     | 5/12 [00:04<00:06,  1.14it/s]\u001b[A\n",
      " 50%|█████     | 6/12 [00:05<00:05,  1.09it/s]\u001b[A\n",
      " 58%|█████▊    | 7/12 [00:05<00:04,  1.14it/s]\u001b[A\n",
      " 67%|██████▋   | 8/12 [00:06<00:03,  1.21it/s]\u001b[A\n",
      " 75%|███████▌  | 9/12 [00:07<00:02,  1.23it/s]\u001b[A\n",
      " 83%|████████▎ | 10/12 [00:08<00:01,  1.23it/s]\u001b[A\n",
      " 92%|█████████▏| 11/12 [00:09<00:00,  1.24it/s]\u001b[A\n",
      "100%|██████████| 12/12 [00:09<00:00,  1.21it/s]\u001b[A\n",
      " 75%|███████▌  | 3/4 [00:24<00:08,  8.71s/it]\n",
      "  0%|          | 0/12 [00:00<?, ?it/s]\u001b[A\n",
      "  8%|▊         | 1/12 [00:01<00:16,  1.49s/it]\u001b[A\n",
      " 17%|█▋        | 2/12 [00:03<00:15,  1.56s/it]\u001b[A\n",
      " 25%|██▌       | 3/12 [00:04<00:13,  1.53s/it]\u001b[A\n",
      " 33%|███▎      | 4/12 [00:06<00:13,  1.64s/it]\u001b[A\n",
      " 42%|████▏     | 5/12 [00:08<00:11,  1.66s/it]\u001b[A\n",
      " 50%|█████     | 6/12 [00:09<00:09,  1.64s/it]\u001b[A\n",
      " 58%|█████▊    | 7/12 [00:11<00:08,  1.66s/it]\u001b[A\n",
      " 67%|██████▋   | 8/12 [00:12<00:06,  1.61s/it]\u001b[A\n",
      " 75%|███████▌  | 9/12 [00:14<00:04,  1.54s/it]\u001b[A\n",
      " 83%|████████▎ | 10/12 [00:15<00:03,  1.59s/it]\u001b[A\n",
      " 92%|█████████▏| 11/12 [00:17<00:01,  1.56s/it]\u001b[A\n",
      "100%|██████████| 12/12 [00:19<00:00,  1.59s/it]\u001b[A\n",
      "100%|██████████| 4/4 [00:43<00:00, 11.00s/it]"
     ]
    },
    {
     "name": "stdout",
     "output_type": "stream",
     "text": [
      "Лучшие параметры для функции определяющей признаки: max_lag = 168, rolling_mean_size = 16, значение rmse при этом равняется 23.043469380130247\n",
      "CPU times: user 19.9 s, sys: 23.8 s, total: 43.7 s\n",
      "Wall time: 44 s\n"
     ]
    },
    {
     "name": "stderr",
     "output_type": "stream",
     "text": [
      "\n"
     ]
    }
   ],
   "source": [
    "%%time\n",
    "\n",
    "model = LinearRegression()\n",
    "\n",
    "best_rmse = 100\n",
    "best_max_lag = 0\n",
    "best_rolling_mean_size = 0\n",
    "\n",
    "for max_lag in tqdm.tqdm([12, 24, 48, 168]):\n",
    "    for rol_size in tqdm.tqdm(range(2, 25, 2)):\n",
    "        train_features, train_target, test_features, test_target = new_features(df, max_lag, rol_size)\n",
    "        tscv = TimeSeriesSplit(n_splits=3)\n",
    "        lin_grid = GridSearchCV(model, {}, scoring='neg_root_mean_squared_error', cv=tscv)\n",
    "        lin_grid.fit(train_features, train_target)\n",
    "        rmse = lin_grid.best_score_ * -1\n",
    "        if rmse < best_rmse:\n",
    "            best_max_lag = max_lag\n",
    "            best_rolling_mean_size = rol_size\n",
    "            best_rmse = rmse\n",
    "\n",
    "print(f'Лучшие параметры для функции определяющей признаки: max_lag = {best_max_lag}, \\\n",
    "      rolling_mean_size = {best_rolling_mean_size}, значение rmse при этом равняется {best_rmse}')\n",
    "        \n",
    "\n",
    "# Лучшие параметры для функции определяющей признаки: max_lag = 168, rolling_mean_size = 16, значение rmse при этом равняется 23.043469380130247\n",
    "# CPU times: user 19.9 s, sys: 23.8 s, total: 43.7 s\n",
    "# Wall time: 44 s"
   ]
  },
  {
   "cell_type": "markdown",
   "metadata": {},
   "source": [
    "Таким образом наилучшими параметрами для функции определяющий признаки являются: `max_lag=200`, `rolling_mean_size=18`. Сохраним параметры для наших выборок."
   ]
  },
  {
   "cell_type": "code",
   "execution_count": 22,
   "metadata": {},
   "outputs": [],
   "source": [
    "train_features, train_target, test_features, test_target = new_features(df, best_max_lag, best_rolling_mean_size)"
   ]
  },
  {
   "cell_type": "markdown",
   "metadata": {},
   "source": [
    "### Модель случайного леса."
   ]
  },
  {
   "cell_type": "code",
   "execution_count": 23,
   "metadata": {},
   "outputs": [
    {
     "name": "stdout",
     "output_type": "stream",
     "text": [
      "Качество модели случайного леса: 23.728063645562347\n",
      "{'max_depth': 9, 'n_estimators': 120}\n",
      "CPU times: user 5min 33s, sys: 2.59 s, total: 5min 36s\n",
      "Wall time: 5min 36s\n"
     ]
    }
   ],
   "source": [
    "%%time\n",
    "\n",
    "model = RandomForestRegressor(n_estimators=30, random_state=123)\n",
    "\n",
    "parametrs = {'max_depth': range(1, 10, 2),\n",
    "            'n_estimators': range(60, 121, 20)}\n",
    "            \n",
    "tscv = TimeSeriesSplit(n_splits=3)\n",
    "forest_grid = GridSearchCV(model, parametrs, scoring='neg_root_mean_squared_error', cv=tscv)\n",
    "forest_grid.fit(train_features, train_target)\n",
    "forest_model_score = forest_grid.best_score_ * -1\n",
    "print('Качество модели случайного леса:', forest_model_score)\n",
    "print(forest_grid.best_params_)\n",
    "\n",
    "# Качество модели случайного леса: 23.728063645562347\n",
    "# {'max_depth': 9, 'n_estimators': 120}\n",
    "# CPU times: user 5min 33s, sys: 2.59 s, total: 5min 36s"
   ]
  },
  {
   "cell_type": "markdown",
   "metadata": {},
   "source": [
    "### Модель LGBMRegressor."
   ]
  },
  {
   "cell_type": "code",
   "execution_count": 24,
   "metadata": {},
   "outputs": [
    {
     "name": "stdout",
     "output_type": "stream",
     "text": [
      "Качество модели LGBMRegressor: 23.752076694471153\n",
      "{'num_leaves': 10}\n",
      "CPU times: user 1min 28s, sys: 0 ns, total: 1min 28s\n",
      "Wall time: 1min 29s\n"
     ]
    }
   ],
   "source": [
    "%%time\n",
    "\n",
    "model = lgb.LGBMRegressor(random_state=123)\n",
    "\n",
    "lgb_parametrs = {\"num_leaves\": [10, 30, 100]}\n",
    "\n",
    "tscv = TimeSeriesSplit(n_splits=3)\n",
    "lgb_grid = GridSearchCV(model, lgb_parametrs, scoring='neg_root_mean_squared_error', cv=tscv)\n",
    "lgb_grid.fit(train_features, train_target)\n",
    "lgb_model_score = lgb_grid.best_score_ * -1\n",
    "print('Качество модели LGBMRegressor:', lgb_model_score)\n",
    "print(lgb_grid.best_params_)\n",
    "\n",
    "# Качество модели LGBMRegressor: 23.752076694471153\n",
    "# {'num_leaves': 10}\n",
    "# CPU times: user 1min 28s, sys: 0 ns, total: 1min 28s"
   ]
  },
  {
   "cell_type": "markdown",
   "metadata": {},
   "source": [
    "Таким образом наилучшей моделью оказалась модель основанная на алгоритме линейной регрессии, со значением метрики rmse = 23.04, что немного меньше rmse модели случайного леса (rmse = 23.73) и модели линейной регрессии (rmse = 23.75)."
   ]
  },
  {
   "cell_type": "markdown",
   "metadata": {},
   "source": [
    "## Тестирование"
   ]
  },
  {
   "cell_type": "markdown",
   "metadata": {},
   "source": [
    "Проверим модель линейной регрессии на тестовой выборке."
   ]
  },
  {
   "cell_type": "code",
   "execution_count": 25,
   "metadata": {
    "scrolled": true
   },
   "outputs": [
    {
     "data": {
      "text/plain": [
       "GridSearchCV(cv=TimeSeriesSplit(gap=0, max_train_size=None, n_splits=3, test_size=None),\n",
       "             estimator=LinearRegression(), param_grid={},\n",
       "             scoring='neg_root_mean_squared_error')"
      ]
     },
     "execution_count": 25,
     "metadata": {},
     "output_type": "execute_result"
    }
   ],
   "source": [
    "lin_grid.fit(train_features, train_target)"
   ]
  },
  {
   "cell_type": "code",
   "execution_count": 26,
   "metadata": {},
   "outputs": [],
   "source": [
    "lin_predictions = lin_grid.predict(test_features)"
   ]
  },
  {
   "cell_type": "code",
   "execution_count": 31,
   "metadata": {},
   "outputs": [
    {
     "data": {
      "text/plain": [
       "34.79155157267944"
      ]
     },
     "execution_count": 31,
     "metadata": {},
     "output_type": "execute_result"
    }
   ],
   "source": [
    "mse(test_target, lin_predictions) ** 0.5"
   ]
  },
  {
   "cell_type": "markdown",
   "metadata": {},
   "source": [
    "Таким образом, значение rmse линейной модели на тестовой выборке составило 34.79."
   ]
  },
  {
   "cell_type": "markdown",
   "metadata": {},
   "source": [
    "----"
   ]
  },
  {
   "cell_type": "markdown",
   "metadata": {},
   "source": [
    "Сравним на графике предсказанные значения с истинными."
   ]
  },
  {
   "cell_type": "code",
   "execution_count": 80,
   "metadata": {},
   "outputs": [],
   "source": [
    "predictions = pd.Series(lin_predictions, index=test_target.index)"
   ]
  },
  {
   "cell_type": "code",
   "execution_count": 85,
   "metadata": {},
   "outputs": [
    {
     "data": {
      "image/png": "[encoded data removed]",
      "text/plain": [
       "<Figure size 1080x360 with 1 Axes>"
      ]
     },
     "metadata": {
      "needs_background": "light"
     },
     "output_type": "display_data"
    }
   ],
   "source": [
    "plt.figure(figsize=(15, 5))\n",
    "plt.plot(test_target, label='real')\n",
    "plt.plot(predictions, label='predictions')\n",
    "plt.legend()\n",
    "plt.title('Quality of predictions')\n",
    "\n",
    "plt.show()\n"
   ]
  },
  {
   "cell_type": "markdown",
   "metadata": {},
   "source": [
    "## Вывод"
   ]
  },
  {
   "cell_type": "markdown",
   "metadata": {},
   "source": [
    "Задачей исследования являлось построение модели для компании «Чётенькое такси» для прогноза количества заказов такси на следующий час.\n",
    "\n",
    "Нам были предоставленны данные о заказах такси в аэропортах в 10 минутных интервалах в период с марта по август 2018 года. Было проведено ресемплирование и анализ данных. \n",
    "\n",
    "В предоставленный период наблюдался восходящий тренд заказов такси. В суточной сезонности наименьшее количество заказов такси наблюдается в 6 утра. В недельной сезонности можно наблюдать, что пики заказов приходятся на понедельник и пятницу. Самый ненагруженный день - вторник.\n",
    "\n",
    "Для обучения моделей были созданы календарные признаки, отстающие (lag) значения, скользящее среднее.\n",
    "\n",
    "Было рассмотрено три модели: модель линейной регрессии, модель случайного леса и модель градиентного бустинга. Наилучший результат показала модель линейной регрессии со значением метрики RMSE на тестовой выборке равным 34.79."
   ]
  }
 ],
 "metadata": {
  "ExecuteTimeLog": [
   {
    "duration": 433,
    "start_time": "2023-01-11T10:13:12.145Z"
   },
   {
    "duration": 127,
    "start_time": "2023-01-11T10:13:30.762Z"
   },
   {
    "duration": 273,
    "start_time": "2023-01-11T10:13:48.838Z"
   },
   {
    "duration": 52,
    "start_time": "2023-01-11T10:13:53.548Z"
   },
   {
    "duration": 58,
    "start_time": "2023-01-11T10:14:01.316Z"
   },
   {
    "duration": 7,
    "start_time": "2023-01-11T10:14:05.571Z"
   },
   {
    "duration": 12,
    "start_time": "2023-01-11T10:14:14.247Z"
   },
   {
    "duration": 9,
    "start_time": "2023-01-11T10:18:40.407Z"
   },
   {
    "duration": 17,
    "start_time": "2023-01-11T10:18:44.282Z"
   },
   {
    "duration": 81,
    "start_time": "2023-01-11T10:19:45.757Z"
   },
   {
    "duration": 4,
    "start_time": "2023-01-11T10:20:39.089Z"
   },
   {
    "duration": 10,
    "start_time": "2023-01-11T10:20:46.571Z"
   },
   {
    "duration": 9,
    "start_time": "2023-01-11T10:22:38.236Z"
   },
   {
    "duration": 7,
    "start_time": "2023-01-11T10:22:48.490Z"
   },
   {
    "duration": 5,
    "start_time": "2023-01-11T10:23:06.595Z"
   },
   {
    "duration": 14,
    "start_time": "2023-01-11T10:25:36.908Z"
   },
   {
    "duration": 6,
    "start_time": "2023-01-11T10:25:49.044Z"
   },
   {
    "duration": 8,
    "start_time": "2023-01-11T10:26:26.964Z"
   },
   {
    "duration": 370,
    "start_time": "2023-01-11T10:27:27.541Z"
   },
   {
    "duration": 236,
    "start_time": "2023-01-11T10:27:52.617Z"
   },
   {
    "duration": 10,
    "start_time": "2023-01-11T10:28:33.086Z"
   },
   {
    "duration": 236,
    "start_time": "2023-01-11T11:19:15.498Z"
   },
   {
    "duration": 254,
    "start_time": "2023-01-11T11:20:44.535Z"
   },
   {
    "duration": 251,
    "start_time": "2023-01-11T11:20:48.982Z"
   },
   {
    "duration": 198,
    "start_time": "2023-01-11T11:20:58.169Z"
   },
   {
    "duration": 216,
    "start_time": "2023-01-11T11:21:54.584Z"
   },
   {
    "duration": 12,
    "start_time": "2023-01-11T11:22:07.278Z"
   },
   {
    "duration": 8,
    "start_time": "2023-01-11T11:22:13.445Z"
   },
   {
    "duration": 191,
    "start_time": "2023-01-11T11:22:33.663Z"
   },
   {
    "duration": 262,
    "start_time": "2023-01-11T11:22:38.718Z"
   },
   {
    "duration": 207,
    "start_time": "2023-01-11T11:24:13.016Z"
   },
   {
    "duration": 2,
    "start_time": "2023-01-11T11:25:05.086Z"
   },
   {
    "duration": 3,
    "start_time": "2023-01-11T11:25:14.375Z"
   },
   {
    "duration": 8,
    "start_time": "2023-01-11T11:25:28.259Z"
   },
   {
    "duration": 3,
    "start_time": "2023-01-11T11:25:40.903Z"
   },
   {
    "duration": 7,
    "start_time": "2023-01-11T11:25:58.336Z"
   },
   {
    "duration": 272,
    "start_time": "2023-01-11T11:27:08.163Z"
   },
   {
    "duration": 14,
    "start_time": "2023-01-11T11:28:05.504Z"
   },
   {
    "duration": 196,
    "start_time": "2023-01-11T11:30:11.436Z"
   },
   {
    "duration": 213,
    "start_time": "2023-01-11T11:30:15.996Z"
   },
   {
    "duration": 6,
    "start_time": "2023-01-11T11:30:56.581Z"
   },
   {
    "duration": 285,
    "start_time": "2023-01-11T11:31:07.380Z"
   },
   {
    "duration": 144,
    "start_time": "2023-01-11T11:31:41.711Z"
   },
   {
    "duration": 27,
    "start_time": "2023-01-11T11:33:41.543Z"
   },
   {
    "duration": 280,
    "start_time": "2023-01-11T11:33:49.053Z"
   },
   {
    "duration": 242,
    "start_time": "2023-01-11T11:33:58.598Z"
   },
   {
    "duration": 198,
    "start_time": "2023-01-11T11:34:30.336Z"
   },
   {
    "duration": 404,
    "start_time": "2023-01-11T11:35:39.669Z"
   },
   {
    "duration": 479,
    "start_time": "2023-01-11T11:37:15.494Z"
   },
   {
    "duration": 369,
    "start_time": "2023-01-11T11:38:12.546Z"
   },
   {
    "duration": 500,
    "start_time": "2023-01-11T11:38:27.569Z"
   },
   {
    "duration": 425,
    "start_time": "2023-01-11T11:39:00.762Z"
   },
   {
    "duration": 350,
    "start_time": "2023-01-11T11:39:44.562Z"
   },
   {
    "duration": 437,
    "start_time": "2023-01-11T11:40:20.294Z"
   },
   {
    "duration": 328,
    "start_time": "2023-01-11T11:41:27.887Z"
   },
   {
    "duration": 349,
    "start_time": "2023-01-11T11:41:38.765Z"
   },
   {
    "duration": 498,
    "start_time": "2023-01-11T11:42:06.606Z"
   },
   {
    "duration": 394,
    "start_time": "2023-01-11T11:42:17.242Z"
   },
   {
    "duration": 490,
    "start_time": "2023-01-11T11:42:33.905Z"
   },
   {
    "duration": 404,
    "start_time": "2023-01-11T11:43:09.647Z"
   },
   {
    "duration": 418,
    "start_time": "2023-01-11T11:43:42.239Z"
   },
   {
    "duration": 499,
    "start_time": "2023-01-11T11:45:09.151Z"
   },
   {
    "duration": 421,
    "start_time": "2023-01-11T11:45:14.480Z"
   },
   {
    "duration": 417,
    "start_time": "2023-01-11T11:45:17.399Z"
   },
   {
    "duration": 311,
    "start_time": "2023-01-11T11:45:52.660Z"
   },
   {
    "duration": 311,
    "start_time": "2023-01-11T11:45:56.987Z"
   },
   {
    "duration": 256,
    "start_time": "2023-01-11T11:46:29.573Z"
   },
   {
    "duration": 479,
    "start_time": "2023-01-11T11:47:41.448Z"
   },
   {
    "duration": 433,
    "start_time": "2023-01-11T11:48:02.717Z"
   },
   {
    "duration": 393,
    "start_time": "2023-01-11T11:48:24.900Z"
   },
   {
    "duration": 209,
    "start_time": "2023-01-11T11:51:13.269Z"
   },
   {
    "duration": 199,
    "start_time": "2023-01-11T11:51:16.746Z"
   },
   {
    "duration": 223,
    "start_time": "2023-01-11T11:51:20.546Z"
   },
   {
    "duration": 202,
    "start_time": "2023-01-11T11:51:23.253Z"
   },
   {
    "duration": 207,
    "start_time": "2023-01-11T11:51:25.905Z"
   },
   {
    "duration": 221,
    "start_time": "2023-01-11T11:51:30.038Z"
   },
   {
    "duration": 545,
    "start_time": "2023-01-11T11:51:33.397Z"
   },
   {
    "duration": 199,
    "start_time": "2023-01-11T11:51:38.461Z"
   },
   {
    "duration": 265,
    "start_time": "2023-01-11T11:52:10.306Z"
   },
   {
    "duration": 267,
    "start_time": "2023-01-11T11:52:16.706Z"
   },
   {
    "duration": 20,
    "start_time": "2023-01-11T11:52:30.373Z"
   },
   {
    "duration": 233,
    "start_time": "2023-01-11T11:52:32.936Z"
   },
   {
    "duration": 252,
    "start_time": "2023-01-11T11:52:37.042Z"
   },
   {
    "duration": 252,
    "start_time": "2023-01-11T11:52:39.777Z"
   },
   {
    "duration": 220,
    "start_time": "2023-01-11T11:52:44.593Z"
   },
   {
    "duration": 206,
    "start_time": "2023-01-11T11:52:54.608Z"
   },
   {
    "duration": 210,
    "start_time": "2023-01-11T11:53:56.874Z"
   },
   {
    "duration": 461,
    "start_time": "2023-01-11T12:01:26.089Z"
   },
   {
    "duration": 448,
    "start_time": "2023-01-11T12:01:34.136Z"
   },
   {
    "duration": 223,
    "start_time": "2023-01-11T12:01:44.346Z"
   },
   {
    "duration": 566,
    "start_time": "2023-01-11T12:01:53.241Z"
   },
   {
    "duration": 217,
    "start_time": "2023-01-11T12:01:58.320Z"
   },
   {
    "duration": 219,
    "start_time": "2023-01-11T12:02:02.282Z"
   },
   {
    "duration": 219,
    "start_time": "2023-01-11T12:02:05.448Z"
   },
   {
    "duration": 202,
    "start_time": "2023-01-11T12:02:10.313Z"
   },
   {
    "duration": 130,
    "start_time": "2023-01-11T12:13:34.616Z"
   },
   {
    "duration": 169,
    "start_time": "2023-01-11T12:13:49.502Z"
   },
   {
    "duration": 159,
    "start_time": "2023-01-11T12:14:10.473Z"
   },
   {
    "duration": 175,
    "start_time": "2023-01-11T12:15:26.913Z"
   },
   {
    "duration": 159,
    "start_time": "2023-01-11T12:15:31.109Z"
   },
   {
    "duration": 196,
    "start_time": "2023-01-11T12:15:34.078Z"
   },
   {
    "duration": 172,
    "start_time": "2023-01-11T12:20:55.052Z"
   },
   {
    "duration": 198,
    "start_time": "2023-01-11T12:22:11.177Z"
   },
   {
    "duration": 35,
    "start_time": "2023-01-11T12:26:54.665Z"
   },
   {
    "duration": 166,
    "start_time": "2023-01-11T12:27:10.607Z"
   },
   {
    "duration": 154,
    "start_time": "2023-01-11T12:27:40.126Z"
   },
   {
    "duration": 172,
    "start_time": "2023-01-11T12:28:34.310Z"
   },
   {
    "duration": 152,
    "start_time": "2023-01-11T12:28:46.709Z"
   },
   {
    "duration": 20,
    "start_time": "2023-01-11T12:29:35.713Z"
   },
   {
    "duration": 156,
    "start_time": "2023-01-11T12:29:39.565Z"
   },
   {
    "duration": 13,
    "start_time": "2023-01-11T12:30:46.785Z"
   },
   {
    "duration": 180,
    "start_time": "2023-01-11T12:30:49.662Z"
   },
   {
    "duration": 201,
    "start_time": "2023-01-11T12:31:01.145Z"
   },
   {
    "duration": 161,
    "start_time": "2023-01-11T12:32:35.274Z"
   },
   {
    "duration": 243,
    "start_time": "2023-01-11T12:40:40.996Z"
   },
   {
    "duration": 4,
    "start_time": "2023-01-11T12:41:48.261Z"
   },
   {
    "duration": 9,
    "start_time": "2023-01-11T12:42:18.251Z"
   },
   {
    "duration": 3,
    "start_time": "2023-01-11T12:46:30.516Z"
   },
   {
    "duration": 10,
    "start_time": "2023-01-11T12:51:35.800Z"
   },
   {
    "duration": 4,
    "start_time": "2023-01-11T12:55:35.219Z"
   },
   {
    "duration": 11,
    "start_time": "2023-01-11T12:55:38.526Z"
   },
   {
    "duration": 16,
    "start_time": "2023-01-11T12:59:12.162Z"
   },
   {
    "duration": 5,
    "start_time": "2023-01-11T12:59:33.826Z"
   },
   {
    "duration": 3,
    "start_time": "2023-01-11T13:08:21.834Z"
   },
   {
    "duration": 3,
    "start_time": "2023-01-11T13:12:22.590Z"
   },
   {
    "duration": 30,
    "start_time": "2023-01-11T13:19:14.672Z"
   },
   {
    "duration": 21,
    "start_time": "2023-01-11T13:19:27.017Z"
   },
   {
    "duration": 21,
    "start_time": "2023-01-11T13:19:49.948Z"
   },
   {
    "duration": 20,
    "start_time": "2023-01-11T13:19:53.746Z"
   },
   {
    "duration": 3,
    "start_time": "2023-01-11T13:19:57.158Z"
   },
   {
    "duration": 20,
    "start_time": "2023-01-11T13:21:36.001Z"
   },
   {
    "duration": 6,
    "start_time": "2023-01-11T13:22:00.486Z"
   },
   {
    "duration": 4,
    "start_time": "2023-01-11T13:26:07.603Z"
   },
   {
    "duration": 6,
    "start_time": "2023-01-11T13:26:14.443Z"
   },
   {
    "duration": 31,
    "start_time": "2023-01-11T13:27:18.173Z"
   },
   {
    "duration": 5,
    "start_time": "2023-01-11T13:29:23.209Z"
   },
   {
    "duration": 3,
    "start_time": "2023-01-11T13:29:25.047Z"
   },
   {
    "duration": 5,
    "start_time": "2023-01-11T13:29:26.312Z"
   },
   {
    "duration": 19,
    "start_time": "2023-01-11T13:29:32.778Z"
   },
   {
    "duration": 16,
    "start_time": "2023-01-11T13:29:38.523Z"
   },
   {
    "duration": 6,
    "start_time": "2023-01-11T13:29:41.907Z"
   },
   {
    "duration": 5,
    "start_time": "2023-01-11T13:30:32.561Z"
   },
   {
    "duration": 2,
    "start_time": "2023-01-11T13:30:35.359Z"
   },
   {
    "duration": 5,
    "start_time": "2023-01-11T13:30:39.559Z"
   },
   {
    "duration": 4,
    "start_time": "2023-01-11T13:30:46.012Z"
   },
   {
    "duration": 6,
    "start_time": "2023-01-11T13:30:47.320Z"
   },
   {
    "duration": 3,
    "start_time": "2023-01-11T13:30:48.588Z"
   },
   {
    "duration": 5,
    "start_time": "2023-01-11T13:30:50.034Z"
   },
   {
    "duration": 11,
    "start_time": "2023-01-11T13:31:28.440Z"
   },
   {
    "duration": 13,
    "start_time": "2023-01-11T13:32:30.893Z"
   },
   {
    "duration": 13,
    "start_time": "2023-01-11T13:32:34.131Z"
   },
   {
    "duration": 5,
    "start_time": "2023-01-11T13:33:01.461Z"
   },
   {
    "duration": 3,
    "start_time": "2023-01-11T13:33:33.852Z"
   },
   {
    "duration": 10,
    "start_time": "2023-01-11T13:35:22.601Z"
   },
   {
    "duration": 10,
    "start_time": "2023-01-12T03:31:43.653Z"
   },
   {
    "duration": 1482,
    "start_time": "2023-01-12T03:37:22.563Z"
   },
   {
    "duration": 114,
    "start_time": "2023-01-12T03:38:38.098Z"
   },
   {
    "duration": 3,
    "start_time": "2023-01-12T03:38:47.456Z"
   },
   {
    "duration": 4,
    "start_time": "2023-01-12T04:08:02.203Z"
   },
   {
    "duration": 121,
    "start_time": "2023-01-12T04:08:02.208Z"
   },
   {
    "duration": 11,
    "start_time": "2023-01-12T04:08:02.330Z"
   },
   {
    "duration": 13,
    "start_time": "2023-01-12T04:08:02.343Z"
   },
   {
    "duration": 15,
    "start_time": "2023-01-12T04:08:02.358Z"
   },
   {
    "duration": 12,
    "start_time": "2023-01-12T04:08:02.374Z"
   },
   {
    "duration": 8,
    "start_time": "2023-01-12T04:08:02.387Z"
   },
   {
    "duration": 9,
    "start_time": "2023-01-12T04:08:02.398Z"
   },
   {
    "duration": 7,
    "start_time": "2023-01-12T04:08:02.408Z"
   },
   {
    "duration": 9,
    "start_time": "2023-01-12T04:08:02.418Z"
   },
   {
    "duration": 272,
    "start_time": "2023-01-12T04:08:02.429Z"
   },
   {
    "duration": 22,
    "start_time": "2023-01-12T04:08:02.702Z"
   },
   {
    "duration": 175,
    "start_time": "2023-01-12T04:08:02.726Z"
   },
   {
    "duration": 171,
    "start_time": "2023-01-12T04:08:02.903Z"
   },
   {
    "duration": 3,
    "start_time": "2023-01-12T04:08:03.076Z"
   },
   {
    "duration": 17,
    "start_time": "2023-01-12T04:08:03.080Z"
   },
   {
    "duration": 59,
    "start_time": "2023-01-12T04:08:03.099Z"
   },
   {
    "duration": 144,
    "start_time": "2023-01-12T04:08:03.160Z"
   },
   {
    "duration": 43,
    "start_time": "2023-01-12T04:08:03.306Z"
   },
   {
    "duration": 18,
    "start_time": "2023-01-12T04:08:03.351Z"
   },
   {
    "duration": 9,
    "start_time": "2023-01-12T04:08:03.371Z"
   },
   {
    "duration": 18,
    "start_time": "2023-01-12T04:08:03.382Z"
   },
   {
    "duration": 39,
    "start_time": "2023-01-12T04:08:03.402Z"
   },
   {
    "duration": 22,
    "start_time": "2023-01-12T04:08:03.442Z"
   },
   {
    "duration": 17,
    "start_time": "2023-01-12T04:08:03.465Z"
   },
   {
    "duration": 46,
    "start_time": "2023-01-12T04:08:03.484Z"
   },
   {
    "duration": 274,
    "start_time": "2023-01-12T04:08:03.532Z"
   },
   {
    "duration": 164,
    "start_time": "2023-01-12T04:14:35.333Z"
   },
   {
    "duration": 6,
    "start_time": "2023-01-12T04:15:11.806Z"
   },
   {
    "duration": 17,
    "start_time": "2023-01-12T04:15:15.841Z"
   },
   {
    "duration": 5,
    "start_time": "2023-01-12T04:16:20.818Z"
   },
   {
    "duration": 6,
    "start_time": "2023-01-12T04:16:26.056Z"
   },
   {
    "duration": 254431,
    "start_time": "2023-01-12T04:33:42.968Z"
   },
   {
    "duration": 2136,
    "start_time": "2023-01-12T05:59:51.160Z"
   },
   {
    "duration": 140,
    "start_time": "2023-01-12T06:03:21.609Z"
   },
   {
    "duration": 15,
    "start_time": "2023-01-12T06:05:49.145Z"
   },
   {
    "duration": 28,
    "start_time": "2023-01-12T06:06:14.903Z"
   },
   {
    "duration": 6310,
    "start_time": "2023-01-12T06:10:59.570Z"
   },
   {
    "duration": 45041,
    "start_time": "2023-01-12T06:11:11.540Z"
   },
   {
    "duration": 26983,
    "start_time": "2023-01-12T06:16:43.456Z"
   },
   {
    "duration": 1018912,
    "start_time": "2023-01-12T06:20:56.234Z"
   },
   {
    "duration": 6,
    "start_time": "2023-01-12T06:40:17.798Z"
   },
   {
    "duration": 181,
    "start_time": "2023-01-12T06:40:23.751Z"
   },
   {
    "duration": 233350,
    "start_time": "2023-01-12T06:42:00.948Z"
   },
   {
    "duration": 485349,
    "start_time": "2023-01-12T06:46:04.674Z"
   },
   {
    "duration": 83,
    "start_time": "2023-01-12T07:29:16.495Z"
   },
   {
    "duration": 29,
    "start_time": "2023-01-12T07:29:25.871Z"
   },
   {
    "duration": 18433,
    "start_time": "2023-01-12T07:29:31.972Z"
   },
   {
    "duration": 362605,
    "start_time": "2023-01-12T07:31:48.056Z"
   },
   {
    "duration": 16,
    "start_time": "2023-01-12T07:41:19.471Z"
   },
   {
    "duration": 4,
    "start_time": "2023-01-12T07:41:32.667Z"
   },
   {
    "duration": 55,
    "start_time": "2023-01-12T07:41:53.547Z"
   },
   {
    "duration": 57,
    "start_time": "2023-01-12T07:42:12.906Z"
   },
   {
    "duration": 368386,
    "start_time": "2023-01-12T07:42:22.120Z"
   },
   {
    "duration": 769314,
    "start_time": "2023-01-12T07:53:39.793Z"
   },
   {
    "duration": 1623,
    "start_time": "2023-01-12T08:13:38.778Z"
   },
   {
    "duration": 13,
    "start_time": "2023-01-12T08:14:43.385Z"
   },
   {
    "duration": 10,
    "start_time": "2023-01-12T08:15:39.105Z"
   },
   {
    "duration": 10,
    "start_time": "2023-01-12T08:15:56.147Z"
   },
   {
    "duration": 6,
    "start_time": "2023-01-12T08:16:07.840Z"
   },
   {
    "duration": 8,
    "start_time": "2023-01-12T08:16:33.295Z"
   },
   {
    "duration": 10,
    "start_time": "2023-01-12T08:16:51.170Z"
   },
   {
    "duration": 10,
    "start_time": "2023-01-12T08:17:30.869Z"
   },
   {
    "duration": 10,
    "start_time": "2023-01-12T08:17:40.174Z"
   },
   {
    "duration": 5,
    "start_time": "2023-01-12T08:23:20.132Z"
   },
   {
    "duration": 9,
    "start_time": "2023-01-12T08:23:37.946Z"
   },
   {
    "duration": 3,
    "start_time": "2023-01-12T08:24:27.833Z"
   },
   {
    "duration": 5,
    "start_time": "2023-01-12T08:24:55.364Z"
   },
   {
    "duration": 174,
    "start_time": "2023-01-12T08:28:20.506Z"
   },
   {
    "duration": 340,
    "start_time": "2023-01-12T08:29:04.312Z"
   },
   {
    "duration": 273,
    "start_time": "2023-01-12T08:29:52.009Z"
   },
   {
    "duration": 201,
    "start_time": "2023-01-12T08:30:03.490Z"
   },
   {
    "duration": 207,
    "start_time": "2023-01-12T08:30:09.386Z"
   },
   {
    "duration": 183,
    "start_time": "2023-01-12T08:30:34.211Z"
   },
   {
    "duration": 129,
    "start_time": "2023-01-12T08:31:08.516Z"
   },
   {
    "duration": 3,
    "start_time": "2023-01-12T08:33:56.299Z"
   },
   {
    "duration": 200,
    "start_time": "2023-01-12T08:34:02.337Z"
   },
   {
    "duration": 188,
    "start_time": "2023-01-12T08:34:11.739Z"
   },
   {
    "duration": 197,
    "start_time": "2023-01-12T08:34:56.947Z"
   },
   {
    "duration": 243,
    "start_time": "2023-01-12T08:35:34.984Z"
   },
   {
    "duration": 205,
    "start_time": "2023-01-12T08:37:48.631Z"
   },
   {
    "duration": 1912,
    "start_time": "2023-01-13T03:43:26.038Z"
   },
   {
    "duration": 4,
    "start_time": "2023-01-13T03:44:29.459Z"
   },
   {
    "duration": 273,
    "start_time": "2023-01-13T03:58:35.325Z"
   },
   {
    "duration": 11,
    "start_time": "2023-01-13T03:58:35.600Z"
   },
   {
    "duration": 16,
    "start_time": "2023-01-13T03:58:35.612Z"
   },
   {
    "duration": 17,
    "start_time": "2023-01-13T03:58:35.630Z"
   },
   {
    "duration": 8,
    "start_time": "2023-01-13T03:58:35.649Z"
   },
   {
    "duration": 10,
    "start_time": "2023-01-13T03:58:35.658Z"
   },
   {
    "duration": 15,
    "start_time": "2023-01-13T03:58:35.670Z"
   },
   {
    "duration": 8,
    "start_time": "2023-01-13T03:58:35.687Z"
   },
   {
    "duration": 22,
    "start_time": "2023-01-13T03:58:35.697Z"
   },
   {
    "duration": 319,
    "start_time": "2023-01-13T03:58:35.721Z"
   },
   {
    "duration": 17,
    "start_time": "2023-01-13T03:58:36.041Z"
   },
   {
    "duration": 218,
    "start_time": "2023-01-13T03:58:36.060Z"
   },
   {
    "duration": 194,
    "start_time": "2023-01-13T03:58:36.280Z"
   },
   {
    "duration": 7,
    "start_time": "2023-01-13T03:58:36.476Z"
   },
   {
    "duration": 9,
    "start_time": "2023-01-13T03:58:36.485Z"
   },
   {
    "duration": 201,
    "start_time": "2023-01-13T04:00:14.936Z"
   },
   {
    "duration": 4,
    "start_time": "2023-01-13T04:01:12.080Z"
   },
   {
    "duration": 45815,
    "start_time": "2023-01-13T04:02:33.241Z"
   },
   {
    "duration": 44093,
    "start_time": "2023-01-13T04:06:36.058Z"
   },
   {
    "duration": 120,
    "start_time": "2023-01-13T04:09:30.283Z"
   },
   {
    "duration": 336607,
    "start_time": "2023-01-13T04:14:19.149Z"
   },
   {
    "duration": 89483,
    "start_time": "2023-01-13T04:24:49.072Z"
   },
   {
    "duration": 1134,
    "start_time": "2023-01-13T04:29:15.725Z"
   },
   {
    "duration": 9,
    "start_time": "2023-01-13T04:29:35.524Z"
   },
   {
    "duration": 12,
    "start_time": "2023-01-13T04:29:38.667Z"
   },
   {
    "duration": 7,
    "start_time": "2023-01-13T04:30:20.205Z"
   },
   {
    "duration": 11,
    "start_time": "2023-01-13T04:30:24.483Z"
   },
   {
    "duration": 6,
    "start_time": "2023-01-13T04:31:10.436Z"
   },
   {
    "duration": 5,
    "start_time": "2023-01-13T04:31:15.398Z"
   }
  ],
  "kernelspec": {
   "display_name": "Python 3 (ipykernel)",
   "language": "python",
   "name": "python3"
  },
  "language_info": {
   "codemirror_mode": {
    "name": "ipython",
    "version": 3
   },
   "file_extension": ".py",
   "mimetype": "text/x-python",
   "name": "python",
   "nbconvert_exporter": "python",
   "pygments_lexer": "ipython3",
   "version": "3.9.15"
  },
  "toc": {
   "base_numbering": 1,
   "nav_menu": {},
   "number_sections": true,
   "sideBar": true,
   "skip_h1_title": true,
   "title_cell": "Содержание",
   "title_sidebar": "Contents",
   "toc_cell": true,
   "toc_position": {},
   "toc_section_display": true,
   "toc_window_display": true
  }
 },
 "nbformat": 4,
 "nbformat_minor": 4
}
